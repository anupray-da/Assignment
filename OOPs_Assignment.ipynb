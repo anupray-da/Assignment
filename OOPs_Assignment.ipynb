{
  "nbformat": 4,
  "nbformat_minor": 0,
  "metadata": {
    "colab": {
      "provenance": []
    },
    "kernelspec": {
      "name": "python3",
      "display_name": "Python 3"
    },
    "language_info": {
      "name": "python"
    }
  },
  "cells": [
    {
      "cell_type": "markdown",
      "source": [
        "#OOPs Assignment\n",
        "1. What is Object-Oriented Programming (OOP)?\n",
        " - Object-Oriented Programming (OOP) is a programming paradigm, or a way to structure your code, that's based on the concept of \"objects\". These objects contain both data (attributes) and functions (methods) that operate on that data.\n",
        " - It helps you organize your code into reusable and modular pieces.\n",
        " - OOP is great for representing real-world entities and their interactions in your programs.\n",
        "\n",
        "2. What is a class in OOP?\n",
        " - In OOP, a class acts as a blueprint or template for creating objects.\n",
        " - A class outlines the structure of an object by specifying the data it should store (attributes) and the operations it can perform (methods).\n",
        " - We use a class to create objects (instances) of that class. Each object gets its own set of attributes and can use the methods defined in the class.\n",
        "\n",
        "3. What is an object in OOP?\n",
        " - In OOP, an object is an instance of a class.\n",
        " - Each object has a unique identity, meaning it's distinct from other objects, even if they belong to the same class.\n",
        " - An object's state is represented by its attributes, which hold the data associated with the object.\n",
        " - Objects can perform actions (methods) that are defined in their class.\n",
        "\n",
        "4. What is the difference between abstraction and encapsulation?\n",
        " - Abstractioc used for hiding complex implementation details and showing only essential information to the user while Encapsulation is bundling data (attributes) and methods (functions) that operate on that data within a single unit (class).\n",
        " - Abstraction used for Simplifying interactions with objects by providing a high-level interface where as Encaapsulation used to protecting data integrity by controlling access to it.\n",
        "\n",
        "5. What are dunder methods in Python?\n",
        " - Dunder methods often referred to as \"magic methods\" or \"special methods\", are methods in Python that have double underscores (dunders) at the beginning and end of their names.\n",
        " - Dunder methods are not meant to be called directly by you. They are special methods that Python uses internally to provide functionality or to allow you to hook into and customize the behavior of your objects.\n",
        "\n",
        "6. Explain the concept of inheritance in OOP.\n",
        " - Inheritance is a mechanism that allows you to create new classes (called child classes or subclasses) that inherit properties and behaviors (attributes and methods) from existing classes (called parent classes or superclasses).\n",
        " - Inheritance promotes code organization, reusability, and maintainability in your programs.\n",
        "\n",
        "7. What is polymorphism in OOP?\n",
        " - Polymorphism meaning \"many forms,\" is a concept in OOP that allows objects of different classes to be treated as objects of a common type. This means that you can use the same interface (method name) to interact with objects of different classes, and they will respond in their own specific ways.\n",
        " -  It's a powerful tool for building robust and maintainable object-oriented systems.\n",
        " - There are two types of Polymorphism Runtime Polymorphism and compile time Polymorphism.\n",
        "\n",
        "8. How is encapsulation achieved in Python?\n",
        " - Encapsulation in OOP refers to bundling data (attributes) and the methods (functions) that operate on that data within a single unit (class). It aims to protect data integrity by controlling access to it.\n",
        " - In Python, encpsulation achived by naming conventions and the use of the properties. Properties provide a way to control access to attributes by defining getter and setter methods.\n",
        "\n",
        "9. What is a constructor in Python?\n",
        " - In Python, a constructor is a special method within a class that is automatically called when an object of that class is created. It is used to initialize the object's attributes with initial value.\n",
        " - The primary role of a constructor is to set up the initial state of an object by assigning values to its attributes.\n",
        " - The constructor is automatically executed when an object is created using the class name.\n",
        "\n",
        "10. What are class and static methods in Python?\n",
        " - Both class and static methods are special types of methods that are associated with a class rather than an instance of the class (an object). They differ in how they are accessed and what data they can access.\n",
        " - Class methods operate on the class itself, while Static methods are independent of the class and its instances.\n",
        "\n",
        "11. What is method overloading in Python?\n",
        " - When you define multiple methods with the same name in a Python class, the last definition will override the previous ones. This is because Python does not consider the parameter types or number when resolving method calls.\n",
        " - While Python doesn't have traditional method overloading, you can achieve similar flexibility using the following techniques:\n",
        "Default arguments:- You can provide default values to parameters in a single method definition, allowing it to handle different numbers of arguments.\n",
        "Variable-length arguments (*args, `kwargs):-* You can use args to accept a variable number of positional arguments and *kwargs` for a variable number of keyword arguments.\n",
        "\n",
        "12. What is method overriding in OOP?\n",
        " - Method overriding is a concept in OOP where a subclass (child class) provides a specific implementation for a method that is already defined in its superclass (parent class). This allows the subclass to modify or extend the behavior of the inherited method.\n",
        " - Method overriding works in three steps Inheritaance, Redefinition and Invocation.\n",
        "\n",
        "13. What is a property decorator in Python?\n",
        " - In Python, the property decorator is used to define methods that act like attributes. It allows you to access, modify, and delete attributes using methods without using explicit getter and setter method calls.\n",
        " - It allows you to control access to attributes by using getter and setter methods.\n",
        " - It makes code more concise and readable by allowing attribute-like access.\n",
        " - It provides flexibility to change the internal implementation of an attribute without affecting external code.\n",
        "\n",
        "14. Why is polymorphism important in OOP?\n",
        " - Polymorphism meaning \"many forms,\" is a concept in OOP that allows objects of different classes to be treated as objects of a common type. This means that you can use the same interface (method name) to interact with objects of different classes, and they will respond in their own specific ways.\n",
        " -  It's important because it supports Flexibility and Code Reusability.\n",
        " - Extensibility and Maintainability\n",
        " - Loose Coupling and Real-world Modeling\n",
        " - Abstraction and Simplicity\n",
        "\n",
        "15. What is an abstract class in Python?\n",
        " - In Python, an abstract class is a class that cannot be instantiated on its own. It serves as a blueprint for other classes (subclasses) and defines a common interface that its subclasses must implement. Abstract classes often contain abstract methods, which are declared but have no implementation in the abstract class.\n",
        " - Abstract classes ensure that all subclasses adhere to a specific structure and provide implementations for certain methods.\n",
        " - By preventing the creation of objects of the abstract class, it enforces the use of concrete subclasses that provide the actual implementation.\n",
        " - Abstract classes help in organizing code by defining a common base for related classes.\n",
        "\n",
        "16. What are the advantages of OOP?\n",
        " - The below are the advantages of OOPs\n",
        " - Code Reusability and Modularity\n",
        " - Encapsulation and Data Protection\n",
        " - Flexibility and Extensibility\n",
        " - Real-world Modeling\n",
        " - Improved Collaboration\n",
        " - Increased Productivity\n",
        " -Enhanced Security\n",
        " - Easier Debugging and Testing\n",
        "\n",
        "17. What is the difference between a class variable and an instance variable?\n",
        " - Both class variables and instance variables are used to store data associated with a class, but they differ in their scope and how they are accessed.\n",
        "  - Class variables are shared by all instances (objects) of a class. They are defined within the class but outside of any methods. Where as instance variables are unique to each instance (object) of a class. They are defined within the constructor method.\n",
        "  - We declare a class variable directly within the class block, typically before any methods while we declare an instance variable using the self keyword within the constructor.\n",
        "  - Class variables can be accessed using the class name or any instance of the class. But Instance variables can only be accessed using an instance of the class.\n",
        "\n",
        "18. What is multiple inheritance in Python?\n",
        " - Multiple inheritance is a feature in OOP where a class can inherit from multiple parent classes. This allows a class to combine functionality from different sources, promoting code reuse and flexibility.\n",
        " - Multiple inheritance can introduce complexities, such as the \"diamond problem\" where ambiguity arises when two parent classes have a common ancestor and define the same method.\n",
        "\n",
        "19. Explain the purpose of ‘’__str__’ and ‘__repr__’ ‘ methods in Python.\n",
        "  - Purpose of  __str__ : To provide a human-readable string representation of an object. It is intended for end-users to understand the object's content.\n",
        " - Usage: Called by the str() built-in function and the print() function when printing an object.\n",
        " - Expectation: Should return a concise and informative string that represents the object in a user-friendly way.\n",
        " - Purpose of __repr__: To provide an unambiguous string representation of an object. It is intended for developers to debug and understand the object's internal state.\n",
        " - Usage: Called by the repr() built-in function and when an object is displayed in an interactive Python shell.\n",
        " - Expectation: Should return a string that can be used to recreate the object using eval(), or a detailed string that provides all necessary information about the object's state.\n",
        "\n",
        "20. What is the significance of the ‘super()’ function in Python?\n",
        " - The super() function is used in object-oriented programming to access and call methods from a parent or sibling class. It's particularly useful when dealing with inheritance and method overriding.\n",
        " - Key significance are as below:\n",
        " -Avoiding Explicit Class Names\n",
        " - Method Overriding and Extension\n",
        " - Multiple Inheritance and Diamond Problem\n",
        "\n",
        "21. What is the significance of the __del__ method in Python?\n",
        " - The __del__ method, also known as the destructor, is a special method (dunder method) in Python classes that is called when an object is about to be destroyed or garbage collected. It's primarily used for cleanup activities, such as releasing resources held by the object.\n",
        " - Key significance are as below:\n",
        " - Resource Management: If an object holds external resources like file handles, network connections, or database connections, the __del__ method can be used to release these resources before the object is destroyed, preventing resource leaks\n",
        " - Cleanup Operations: It can perform any necessary cleanup actions, such as closing files, deleting temporary files, or releasing locks. This ensures that the object leaves the system in a clean state.\n",
        " - Object Lifecycle Management: The __del__ method provides a way to hook into the object's lifecycle and perform actions when the object is no longer needed.\n",
        "\n",
        "22. What is the difference between @staticmethod and @classmethod in Python?\n",
        " - @staticmethod\n",
        "\n",
        " - Definition: A static method is a method that is bound to the class and not the object of the class. They do not have access to the class or any specific instance of the class.\n",
        " - Declaration: You declare a static method using the @staticmethod decorator above the method definition.\n",
        " - Arguments: Static methods do not have any implicit first argument like self or cls.\n",
        " - Usage: They are typically used for utility functions that are related to the class but do not need access to its internal state.\n",
        " - @classmethod\n",
        " - Definition: A class method is a method that is bound to the class and not the object of the class. They have access to the class itself but not to any specific instance of the class.\n",
        " - Declaration: You declare a class method using the @classmethod decorator above the method definition.\n",
        " - First Argument: Class methods always take the class itself (cls) as the first argument.\n",
        " - Usage: They are typically used for factory methods, which create and return new instances of the class, or for operations that involve the class as a whole.\n",
        "\n",
        "23.  How does polymorphism work in Python with inheritance1?\n",
        " - Polymorphism, meaning \"many forms,\" is a fundamental concept in object-oriented programming that allows objects of different classes to be treated as objects of a common type. This is achieved through inheritance and method overriding.\n",
        "\n",
        " - How it Works\n",
        " - Inheritance: A subclass inherits methods from its superclass.\n",
        " - Method Overriding: The subclass can redefine a method with the same name and parameters as the inherited method. This is called method overriding.\n",
        " - Dynamic Dispatch: When a method is called on an object, Python determines the object's type at runtime and executes the appropriate version of the method based on the object's class. This is known as dynamic dispatch.\n",
        "\n",
        "24. What is method chaining in Python OOP?\n",
        " - Method chaining is a technique where you call multiple methods on an object in a single line of code, with each method returning the object itself. This allows for a more concise and fluent coding style.\n",
        " - Each method in the chain, except possibly the last one, should return self (the object itself).\n",
        " -You can then chain multiple method calls by simply appending them with dots (.).\n",
        "\n",
        "25. What is the purpose of the __call__ method in Python?\n",
        " - The __call__ method is a special method (dunder method) in Python classes     that allows you to make an object callable like a function. When you define the __call__ method in a class, you can then use an instance of that class as if it were a function.\n",
        " - The primary purpose of __call__ is to make objects behave like functions.  \n",
        " This means you can use the object's name followed by parentheses to invoke the __call__ method.\n",
        " - ou can define any custom logic within the __call__ method, allowing your objects to perform specific actions when called."
      ],
      "metadata": {
        "id": "cKPD8VC-2nt7"
      }
    },
    {
      "cell_type": "code",
      "execution_count": 8,
      "metadata": {
        "id": "w_4XGOzw2i8Z"
      },
      "outputs": [],
      "source": [
        "# 1. Create a parent class Animal with a method speak() that prints a generic message. Create a child class Dog that overrides the speak() method to print \"Bark!\"\n",
        "class Animal:\n",
        "  def speak(self):\n",
        "    print(\"Animal Sound\")\n",
        "\n",
        "class Dog(Animal):\n",
        "  def speak(self):\n",
        "    print(\"Bark!\")"
      ]
    },
    {
      "cell_type": "code",
      "source": [
        "a=Animal()\n",
        "a.speak()"
      ],
      "metadata": {
        "colab": {
          "base_uri": "https://localhost:8080/"
        },
        "id": "XTJL1HoW77Sb",
        "outputId": "ad7fc70b-ff47-4d8e-ff87-54073a49091f"
      },
      "execution_count": 9,
      "outputs": [
        {
          "output_type": "stream",
          "name": "stdout",
          "text": [
            "Animal Sound\n"
          ]
        }
      ]
    },
    {
      "cell_type": "code",
      "source": [
        "d=Dog()\n",
        "d.speak()"
      ],
      "metadata": {
        "colab": {
          "base_uri": "https://localhost:8080/"
        },
        "id": "AV_y__4L8FBP",
        "outputId": "b196be2d-3c11-48ff-c516-6e45d13c4936"
      },
      "execution_count": 6,
      "outputs": [
        {
          "output_type": "stream",
          "name": "stdout",
          "text": [
            "Bark!\n"
          ]
        }
      ]
    },
    {
      "cell_type": "code",
      "source": [
        "# 2.Write a program to create an abstract class Shape with a method area(). Derive classes Circle and Rectangle from it and implement the area() method in both.\n",
        "class Shape:\n",
        "  def area(self):\n",
        "    pass\n",
        "\n",
        "class Circle(Shape):\n",
        "  def __init__(self,radius):\n",
        "    self.radius=radius\n",
        "  def area(self):\n",
        "    return 3.14*self.radius*self.radius\n",
        "\n",
        "class Rectangle(Shape):\n",
        "  def __init__(self,length,width):\n",
        "    self.length=length\n",
        "    self.width=width\n",
        "  def area(self):\n",
        "    return self.length*self.width"
      ],
      "metadata": {
        "id": "aAIH4uje83X_"
      },
      "execution_count": 10,
      "outputs": []
    },
    {
      "cell_type": "code",
      "source": [
        "c=Circle(5)\n",
        "c.area()"
      ],
      "metadata": {
        "colab": {
          "base_uri": "https://localhost:8080/"
        },
        "id": "rMIIFiAT87Qh",
        "outputId": "6743b49a-0f09-465e-983d-c2f05dc5799c"
      },
      "execution_count": 11,
      "outputs": [
        {
          "output_type": "execute_result",
          "data": {
            "text/plain": [
              "78.5"
            ]
          },
          "metadata": {},
          "execution_count": 11
        }
      ]
    },
    {
      "cell_type": "code",
      "source": [
        "r=Rectangle(5,6)\n",
        "r.area()"
      ],
      "metadata": {
        "colab": {
          "base_uri": "https://localhost:8080/"
        },
        "id": "XiYScF0Q9KcM",
        "outputId": "6b2deb59-a444-4e88-cebc-33d2260f5bc4"
      },
      "execution_count": 12,
      "outputs": [
        {
          "output_type": "execute_result",
          "data": {
            "text/plain": [
              "30"
            ]
          },
          "metadata": {},
          "execution_count": 12
        }
      ]
    },
    {
      "cell_type": "code",
      "source": [
        "# 3. Implement a multi-level inheritance scenario where a class Vehicle has an attribute type. Derive a class Car\n",
        "#and further derive a class ElectricCar that adds a battery attribute.\n",
        "class Vehicle:\n",
        "  def __init__(self,type):\n",
        "    self.type=type\n",
        "\n",
        "class Car(Vehicle):\n",
        "  def __init__(self,type,model):\n",
        "    super().__init__(type)\n",
        "    self.model=model\n",
        "\n",
        "class ElectricCar(Car):\n",
        "  def __init__(self,type,model,battery):\n",
        "    super().__init__(type,model)\n",
        "    self.battery=battery"
      ],
      "metadata": {
        "id": "fAVA7ItM9M8i"
      },
      "execution_count": 14,
      "outputs": []
    },
    {
      "cell_type": "code",
      "source": [
        "b=ElectricCar('car','Seal','88kwh')\n",
        "b.battery"
      ],
      "metadata": {
        "colab": {
          "base_uri": "https://localhost:8080/",
          "height": 36
        },
        "id": "BxftLMVA-HJ8",
        "outputId": "9b670721-c9fa-4dd8-f808-2fa646466583"
      },
      "execution_count": 17,
      "outputs": [
        {
          "output_type": "execute_result",
          "data": {
            "text/plain": [
              "'88kwh'"
            ],
            "application/vnd.google.colaboratory.intrinsic+json": {
              "type": "string"
            }
          },
          "metadata": {},
          "execution_count": 17
        }
      ]
    },
    {
      "cell_type": "code",
      "source": [
        "# 4. Implement a multi-level inheritance scenario where a class Vehicle has an attribute type. Derive a class Car\n",
        "#and further derive a class ElectricCar that adds a battery attribute.\n",
        "class Vehicle:\n",
        "  def __init__(self,type):\n",
        "    self.type=type\n",
        "\n",
        "class Car(Vehicle):\n",
        "  def __init__(self,type,model):\n",
        "    super().__init__(type)\n",
        "    self.model=model\n",
        "\n",
        "class ElectricCar(Car):\n",
        "  def __init__(self,type,model,battery):\n",
        "    super().__init__(type,model)\n",
        "    self.battery=battery"
      ],
      "metadata": {
        "id": "Z_WEmBqe-jk6"
      },
      "execution_count": 19,
      "outputs": []
    },
    {
      "cell_type": "code",
      "source": [
        "# 5.Write a program to demonstrate encapsulation by creating a class BankAccount with private attributes balance and methods to deposit, withdraw, and check balance.\n",
        "class BankAccount:\n",
        "  def __init__(self,balance):\n",
        "    self.__balance=balance\n",
        "\n",
        "  def deposit(self,amount):\n",
        "    self.__balance=self.__balance+amount\n",
        "    return self.__balance\n",
        "\n",
        "  def withdraw(self,amount):\n",
        "    if self.__balance>=amount:\n",
        "      self.__balance=self.__balance-amount\n",
        "      return self.__balance\n",
        "    else:\n",
        "      return \"Insufficient Balance\"\n",
        "\n",
        "  def check_balance(self):\n",
        "    return self.__balance"
      ],
      "metadata": {
        "id": "DN20JIqr_7Uo"
      },
      "execution_count": 20,
      "outputs": []
    },
    {
      "cell_type": "code",
      "source": [
        "a=BankAccount(1000)\n",
        "a.deposit(500)"
      ],
      "metadata": {
        "colab": {
          "base_uri": "https://localhost:8080/"
        },
        "id": "bAvkFRLWACaq",
        "outputId": "aaf6171a-7458-4ad8-bede-c2bb0fa1d14c"
      },
      "execution_count": 21,
      "outputs": [
        {
          "output_type": "execute_result",
          "data": {
            "text/plain": [
              "1500"
            ]
          },
          "metadata": {},
          "execution_count": 21
        }
      ]
    },
    {
      "cell_type": "code",
      "source": [
        "a.withdraw(2000)"
      ],
      "metadata": {
        "colab": {
          "base_uri": "https://localhost:8080/",
          "height": 36
        },
        "id": "GTvBIhJWAOPY",
        "outputId": "d4c08679-ae64-41f1-a3be-95a6471d428e"
      },
      "execution_count": 22,
      "outputs": [
        {
          "output_type": "execute_result",
          "data": {
            "text/plain": [
              "'Insufficient Balance'"
            ],
            "application/vnd.google.colaboratory.intrinsic+json": {
              "type": "string"
            }
          },
          "metadata": {},
          "execution_count": 22
        }
      ]
    },
    {
      "cell_type": "code",
      "source": [
        "a.check_balance()"
      ],
      "metadata": {
        "colab": {
          "base_uri": "https://localhost:8080/"
        },
        "id": "DqaeC3hiAW4y",
        "outputId": "c553dd01-f67f-4413-bf09-072e67d8224d"
      },
      "execution_count": 23,
      "outputs": [
        {
          "output_type": "execute_result",
          "data": {
            "text/plain": [
              "1500"
            ]
          },
          "metadata": {},
          "execution_count": 23
        }
      ]
    },
    {
      "cell_type": "code",
      "source": [
        "a.withdraw(500)"
      ],
      "metadata": {
        "colab": {
          "base_uri": "https://localhost:8080/"
        },
        "id": "LnDPEZKUAY30",
        "outputId": "f5a07c64-0aa2-434c-b7a0-b9bbca27f5fa"
      },
      "execution_count": 24,
      "outputs": [
        {
          "output_type": "execute_result",
          "data": {
            "text/plain": [
              "1000"
            ]
          },
          "metadata": {},
          "execution_count": 24
        }
      ]
    },
    {
      "cell_type": "code",
      "source": [
        "# 6. Demonstrate runtime polymorphism using a method play() in a base class Instrument. Derive classes Guitar and Piano that implement their own version of play().\n",
        "class Instrument:\n",
        "  def play(self):\n",
        "    pass\n",
        "\n",
        "class Guitar(Instrument):\n",
        "  def play(self):\n",
        "    print(\"Guitar is playing\")\n",
        "\n",
        "class Piano(Instrument):\n",
        "  def play(self):\n",
        "    print(\"Piano is playing\")"
      ],
      "metadata": {
        "id": "5tqzWDOqAdM6"
      },
      "execution_count": 25,
      "outputs": []
    },
    {
      "cell_type": "code",
      "source": [
        "g=Guitar()\n",
        "g.play()"
      ],
      "metadata": {
        "colab": {
          "base_uri": "https://localhost:8080/"
        },
        "id": "CA0AFkWiBd2Y",
        "outputId": "b2dc5304-3e51-464b-f9d8-94a7b6465d03"
      },
      "execution_count": 26,
      "outputs": [
        {
          "output_type": "stream",
          "name": "stdout",
          "text": [
            "Guitar is playing\n"
          ]
        }
      ]
    },
    {
      "cell_type": "code",
      "source": [
        "p=Piano()\n",
        "p.play()"
      ],
      "metadata": {
        "colab": {
          "base_uri": "https://localhost:8080/"
        },
        "id": "_SKuLZh7BgIo",
        "outputId": "fec4066e-1225-48ef-d4fd-be3bec97e4d2"
      },
      "execution_count": 27,
      "outputs": [
        {
          "output_type": "stream",
          "name": "stdout",
          "text": [
            "Piano is playing\n"
          ]
        }
      ]
    },
    {
      "cell_type": "code",
      "source": [
        "# 7.Create a class MathOperations with a class method add_numbers() to add two numbers and a static method subtract_numbers() to subtract two numbers.\n",
        "class MathOperations:\n",
        "  @classmethod\n",
        "  def add_numbers(self,a,b):\n",
        "    return a+b\n",
        "\n",
        "  @staticmethod\n",
        "  def subtract_numbers(a,b):\n",
        "    return a-b"
      ],
      "metadata": {
        "id": "44DYW4uhBh9C"
      },
      "execution_count": 32,
      "outputs": []
    },
    {
      "cell_type": "code",
      "source": [
        "add=MathOperations.add_numbers(6,4)\n",
        "add"
      ],
      "metadata": {
        "colab": {
          "base_uri": "https://localhost:8080/"
        },
        "id": "nk1FDGH5CXsq",
        "outputId": "faafea38-d5c2-4399-df28-2bd25a9e9d43"
      },
      "execution_count": 33,
      "outputs": [
        {
          "output_type": "execute_result",
          "data": {
            "text/plain": [
              "10"
            ]
          },
          "metadata": {},
          "execution_count": 33
        }
      ]
    },
    {
      "cell_type": "code",
      "source": [
        "sub=MathOperations.subtract_numbers(6,4)\n",
        "sub"
      ],
      "metadata": {
        "colab": {
          "base_uri": "https://localhost:8080/"
        },
        "id": "prvWgqQFCob-",
        "outputId": "2216825a-eba1-4291-f372-e0f9c2312603"
      },
      "execution_count": 34,
      "outputs": [
        {
          "output_type": "execute_result",
          "data": {
            "text/plain": [
              "2"
            ]
          },
          "metadata": {},
          "execution_count": 34
        }
      ]
    },
    {
      "cell_type": "code",
      "source": [
        "#8.  Implement a class Person with a class method to count the total number of persons created.\n",
        "class Person:\n",
        "  count=0\n",
        "  def __init__(self,name,age):\n",
        "    self.name=name\n",
        "    self.age=age\n",
        "    Person.count=Person.count+1\n",
        "\n",
        "  @classmethod\n",
        "  def total_persons(self):\n",
        "    return self.count"
      ],
      "metadata": {
        "id": "P4DtiuVzCu4v"
      },
      "execution_count": 35,
      "outputs": []
    },
    {
      "cell_type": "code",
      "source": [
        "a=Person('abc',21)\n",
        "b=Person('xyz',22)\n",
        "a.total_persons()"
      ],
      "metadata": {
        "colab": {
          "base_uri": "https://localhost:8080/"
        },
        "id": "FkL2787LD8oX",
        "outputId": "957da2e8-90ba-4fdb-8056-25bb20ec4462"
      },
      "execution_count": 36,
      "outputs": [
        {
          "output_type": "execute_result",
          "data": {
            "text/plain": [
              "2"
            ]
          },
          "metadata": {},
          "execution_count": 36
        }
      ]
    },
    {
      "cell_type": "code",
      "source": [
        "#9. Write a class Fraction with attributes numerator and denominator. Override the str method to display the fraction as \"numerator/denominator\".\n",
        "class Fraction:\n",
        "  def __init__(self,numerator,denominator):\n",
        "    self.numerator=numerator\n",
        "    self.denominator=denominator\n",
        "\n",
        "  def __str__(self):\n",
        "    return str(self.numerator)+\"/\"+str(self.denominator)"
      ],
      "metadata": {
        "id": "o5K-tvXXE49l"
      },
      "execution_count": 39,
      "outputs": []
    },
    {
      "cell_type": "code",
      "source": [
        "a=Fraction(4,5)\n",
        "print(a)"
      ],
      "metadata": {
        "colab": {
          "base_uri": "https://localhost:8080/"
        },
        "id": "K7353k0jEWtT",
        "outputId": "5c691990-af74-4628-e24a-afbfd5ccda7f"
      },
      "execution_count": 40,
      "outputs": [
        {
          "output_type": "stream",
          "name": "stdout",
          "text": [
            "4/5\n"
          ]
        }
      ]
    },
    {
      "cell_type": "code",
      "source": [
        "#10.  Demonstrate operator overloading by creating a class Vector and overriding the add method to add two vectors.\n",
        "class Vector:\n",
        "  def __init__(self,x,y):\n",
        "    self.x=x\n",
        "    self.y=y\n",
        "\n",
        "  def __add__(self,other):\n",
        "    return Vector(self.x+other.x,self.y+other.y)\n",
        "\n",
        "  def __str__(self):\n",
        "    return str(self.x)+\",\"+str(self.y)"
      ],
      "metadata": {
        "id": "L4bNfJvmEyfO"
      },
      "execution_count": 41,
      "outputs": []
    },
    {
      "cell_type": "code",
      "source": [
        "a=Vector(1,2)\n",
        "b=Vector(3,4)\n",
        "c=a+b\n",
        "print(c)"
      ],
      "metadata": {
        "colab": {
          "base_uri": "https://localhost:8080/"
        },
        "id": "zTeYZCZPFuFr",
        "outputId": "8515d24d-2032-4518-81f2-8c3da2da1c55"
      },
      "execution_count": 42,
      "outputs": [
        {
          "output_type": "stream",
          "name": "stdout",
          "text": [
            "4,6\n"
          ]
        }
      ]
    },
    {
      "cell_type": "code",
      "source": [
        "#11. Create a class Person with attributes name and age. Add a method greet() that prints \"Hello, my name is {name} and I am {age} years old.\"\n",
        "class Person:\n",
        "  def __init__(self,name,age):\n",
        "    self.name=name\n",
        "    self.age=age\n",
        "\n",
        "  def greet(self):\n",
        "    print(f\"Hello, my name is {self.name} and I am {self.age} years old.\")"
      ],
      "metadata": {
        "id": "bJWsLrRdGdD7"
      },
      "execution_count": 45,
      "outputs": []
    },
    {
      "cell_type": "code",
      "source": [
        "a=Person('abc',21)\n",
        "a.greet()"
      ],
      "metadata": {
        "colab": {
          "base_uri": "https://localhost:8080/"
        },
        "id": "9RfooU-zGVA0",
        "outputId": "20ee2b20-556d-4836-fca5-86870befbbdc"
      },
      "execution_count": 46,
      "outputs": [
        {
          "output_type": "stream",
          "name": "stdout",
          "text": [
            "Hello, my name is abc and I am 21 years old.\n"
          ]
        }
      ]
    },
    {
      "cell_type": "code",
      "source": [
        "#12. Implement a class Student with attributes name and grades. Create a method average_grade() to compute the average of the grades.\n",
        "class Student:\n",
        "  def __init__(self,name,grades):\n",
        "    self.name=name\n",
        "    self.grades=grades\n",
        "\n",
        "  def average_grade(self):\n",
        "    return sum(self.grades)/len(self.grades)"
      ],
      "metadata": {
        "id": "TRLDL-T2G5h0"
      },
      "execution_count": 47,
      "outputs": []
    },
    {
      "cell_type": "code",
      "source": [
        "a=Student('abc',[1,2,3,4])\n",
        "a.average_grade()"
      ],
      "metadata": {
        "colab": {
          "base_uri": "https://localhost:8080/"
        },
        "id": "NMJQJLNpG6BM",
        "outputId": "12f05321-5e5a-43ab-dcae-f6c96c659ea0"
      },
      "execution_count": 48,
      "outputs": [
        {
          "output_type": "execute_result",
          "data": {
            "text/plain": [
              "2.5"
            ]
          },
          "metadata": {},
          "execution_count": 48
        }
      ]
    },
    {
      "cell_type": "code",
      "source": [
        "#13. Create a class Rectangle with methods set_dimensions() to set the dimensions and area() to calculate the area.\n",
        "class Rectangle:\n",
        "    def set_dimensions(self, length, width):\n",
        "        self.length = length\n",
        "        self.width = width\n",
        "\n",
        "    def area(self):\n",
        "        return self.length * self.width"
      ],
      "metadata": {
        "id": "4GbQVPMdHPpn"
      },
      "execution_count": 50,
      "outputs": []
    },
    {
      "cell_type": "code",
      "source": [
        "a=Rectangle()\n",
        "a.set_dimensions(5,6)\n",
        "a.area()"
      ],
      "metadata": {
        "colab": {
          "base_uri": "https://localhost:8080/"
        },
        "id": "kvuTLJbSHokU",
        "outputId": "99b74563-b451-4c4e-9101-5f6e1ef07399"
      },
      "execution_count": 51,
      "outputs": [
        {
          "output_type": "execute_result",
          "data": {
            "text/plain": [
              "30"
            ]
          },
          "metadata": {},
          "execution_count": 51
        }
      ]
    },
    {
      "cell_type": "code",
      "source": [
        "# 14.Create a class Employee with a method calculate_salary() that computes the salary based on hours worked\n",
        "#and hourly rate. Create a derived class Manager that adds a bonus to the salary.\n",
        "class Employee:\n",
        "  def __init__(self,name,hours_worked,hourly_rate):\n",
        "    self.name=name\n",
        "    self.hours_worked=hours_worked\n",
        "    self.hourly_rate=hourly_rate\n",
        "\n",
        "  def calculate_salary(self):\n",
        "    return self.hours_worked*self.hourly_rate\n",
        "\n",
        "class Manager(Employee):\n",
        "  def __init__(self,name,hours_worked,hourly_rate,bonus):\n",
        "    super().__init__(name,hours_worked,hourly_rate)\n",
        "    self.bonus=bonus\n",
        "\n",
        "  def calculate_salary(self):\n",
        "    return super().calculate_salary()+self.bonus"
      ],
      "metadata": {
        "id": "BUZUvOl0HqLT"
      },
      "execution_count": 54,
      "outputs": []
    },
    {
      "cell_type": "code",
      "source": [
        "a=Manager('abc',5,6,7)\n",
        "a.calculate_salary()"
      ],
      "metadata": {
        "colab": {
          "base_uri": "https://localhost:8080/"
        },
        "id": "6pmBuzYHLT9L",
        "outputId": "2bdaa6f2-c092-4bce-cbde-4be30515df5b"
      },
      "execution_count": 55,
      "outputs": [
        {
          "output_type": "execute_result",
          "data": {
            "text/plain": [
              "37"
            ]
          },
          "metadata": {},
          "execution_count": 55
        }
      ]
    },
    {
      "cell_type": "code",
      "source": [
        "# 15.Create a class Product with attributes name, price, and quantity. Implement a method total_price() that calculates the total price of the product.\n",
        "class Product:\n",
        "  def __init__(self,name,price,quantity):\n",
        "    self.name=name\n",
        "    self.price=price\n",
        "    self.quantity=quantity\n",
        "\n",
        "  def total_price(self):\n",
        "    return self.price*self.quantity"
      ],
      "metadata": {
        "id": "22vkcQlPMuLJ"
      },
      "execution_count": 56,
      "outputs": []
    },
    {
      "cell_type": "code",
      "source": [
        "a=Product('abc',5,6)\n",
        "a.total_price()"
      ],
      "metadata": {
        "colab": {
          "base_uri": "https://localhost:8080/"
        },
        "id": "Q1h_IfIpMurr",
        "outputId": "010b12f3-5452-4e5c-ac30-b4fa9f7115a2"
      },
      "execution_count": 57,
      "outputs": [
        {
          "output_type": "execute_result",
          "data": {
            "text/plain": [
              "30"
            ]
          },
          "metadata": {},
          "execution_count": 57
        }
      ]
    },
    {
      "cell_type": "code",
      "source": [
        "# 16.Create a class Animal with an abstract method sound(). Create two derived classes Cow and Sheep that implement the sound() method.\n",
        "class Animal:\n",
        "  def sound(self):\n",
        "    pass\n",
        "\n",
        "class Cow(Animal):\n",
        "  def sound(self):\n",
        "    print(\"Cow Sound\")\n",
        "\n",
        "class Sheep(Animal):\n",
        "  def sound(self):\n",
        "    print(\"Sheep Sound\")"
      ],
      "metadata": {
        "id": "zl22rIyVMwAe"
      },
      "execution_count": 58,
      "outputs": []
    },
    {
      "cell_type": "code",
      "source": [
        "c=Cow()\n",
        "c.sound()"
      ],
      "metadata": {
        "colab": {
          "base_uri": "https://localhost:8080/"
        },
        "id": "JiQ_Su85NBgc",
        "outputId": "a5d1b4fa-5b54-490f-c612-0978d31da0f2"
      },
      "execution_count": 59,
      "outputs": [
        {
          "output_type": "stream",
          "name": "stdout",
          "text": [
            "Cow Sound\n"
          ]
        }
      ]
    },
    {
      "cell_type": "code",
      "source": [
        "s=Sheep()\n",
        "s.sound()"
      ],
      "metadata": {
        "colab": {
          "base_uri": "https://localhost:8080/"
        },
        "id": "tcM5Hf90NJ8C",
        "outputId": "0246e481-8511-4042-fa55-f7b742b524fd"
      },
      "execution_count": 60,
      "outputs": [
        {
          "output_type": "stream",
          "name": "stdout",
          "text": [
            "Sheep Sound\n"
          ]
        }
      ]
    },
    {
      "cell_type": "code",
      "source": [
        "# 17. Create a class Book with attributes title, author, and year_published. Add a method get_book_info()\n",
        "#that returns a formatted string with the book's details.\n",
        "class Book:\n",
        "  def __init__(self,title,author,year_published):\n",
        "    self.title=title\n",
        "    self.author=author\n",
        "    self.year_published=year_published\n",
        "\n",
        "  def get_book_info(self):\n",
        "    return f\"Title: {self.title}\\nAuthor: {self.author}\\nYear Published: {self.year_published}\""
      ],
      "metadata": {
        "id": "cxx669-GNgfp"
      },
      "execution_count": 62,
      "outputs": []
    },
    {
      "cell_type": "code",
      "source": [
        "a=Book('abc','xyz',2023)\n",
        "print(a.get_book_info())"
      ],
      "metadata": {
        "colab": {
          "base_uri": "https://localhost:8080/"
        },
        "id": "9C40oAd1NjrI",
        "outputId": "8ba9a872-9f9d-48f8-8a3f-b948bf59c9b4"
      },
      "execution_count": 63,
      "outputs": [
        {
          "output_type": "stream",
          "name": "stdout",
          "text": [
            "Title: abc\n",
            "Author: xyz\n",
            "Year Published: 2023\n"
          ]
        }
      ]
    },
    {
      "cell_type": "code",
      "source": [
        "# 18. Create a class House with attributes address and price. Create a derived class Mansion that adds an attribute number_of_rooms.\n",
        "class House:\n",
        "  def __init__(self,address,price):\n",
        "    self.address=address\n",
        "    self.price=price\n",
        "\n",
        "class Mansion(House):\n",
        "  def __init__(self,address,price,number_of_rooms):\n",
        "    super().__init__(address,price)\n",
        "    self.number_of_rooms=number_of_rooms"
      ],
      "metadata": {
        "id": "w6W9ZK9UOFR-"
      },
      "execution_count": 73,
      "outputs": []
    },
    {
      "cell_type": "code",
      "source": [
        "a=Mansion('abc',5,6)\n",
        "a.address"
      ],
      "metadata": {
        "colab": {
          "base_uri": "https://localhost:8080/",
          "height": 36
        },
        "id": "DMMrEx7hOFkD",
        "outputId": "2a7b3be9-4c67-41d3-9c17-171aecdab732"
      },
      "execution_count": 74,
      "outputs": [
        {
          "output_type": "execute_result",
          "data": {
            "text/plain": [
              "'abc'"
            ],
            "application/vnd.google.colaboratory.intrinsic+json": {
              "type": "string"
            }
          },
          "metadata": {},
          "execution_count": 74
        }
      ]
    },
    {
      "cell_type": "code",
      "source": [
        "a.price"
      ],
      "metadata": {
        "colab": {
          "base_uri": "https://localhost:8080/"
        },
        "id": "7QBtPwNjOLHY",
        "outputId": "09e30b16-63f5-4aa8-95e5-9ceec7b75a42"
      },
      "execution_count": 75,
      "outputs": [
        {
          "output_type": "execute_result",
          "data": {
            "text/plain": [
              "5"
            ]
          },
          "metadata": {},
          "execution_count": 75
        }
      ]
    },
    {
      "cell_type": "code",
      "source": [
        "a.number_of_rooms"
      ],
      "metadata": {
        "colab": {
          "base_uri": "https://localhost:8080/"
        },
        "id": "cBAIRTriOdbe",
        "outputId": "3d6237d8-6029-464e-8a06-11d231b3aecb"
      },
      "execution_count": 76,
      "outputs": [
        {
          "output_type": "execute_result",
          "data": {
            "text/plain": [
              "6"
            ]
          },
          "metadata": {},
          "execution_count": 76
        }
      ]
    },
    {
      "cell_type": "code",
      "source": [],
      "metadata": {
        "id": "kYiH_Uq6OgGr"
      },
      "execution_count": null,
      "outputs": []
    }
  ]
}